{
 "cells": [
  {
   "cell_type": "code",
   "execution_count": 16,
   "metadata": {},
   "outputs": [],
   "source": [
    "import numpy as np\n",
    "import pandas as pd\n",
    "import matplotlib.pyplot as plt\n",
    "from sklearn.linear_model import LogisticRegression\n",
    "from sklearn.metrics import classification_report\n",
    "from sklearn.model_selection import train_test_split\n",
    "from sklearn.metrics import roc_auc_score\n",
    "from sklearn.impute import SimpleImputer \n",
    "from sklearn.metrics import confusion_matrix, accuracy_score\n",
    "from sklearn.metrics import mean_squared_error\n",
    "from sklearn.metrics import mean_absolute_error\n",
    "from sklearn.metrics import r2_score\n",
    "import scipy.stats as stats\n",
    "from scipy.stats import chi2_contingency"
   ]
  },
  {
   "cell_type": "code",
   "execution_count": 17,
   "metadata": {},
   "outputs": [],
   "source": [
    "class ChiSquare:\n",
    "    def __init__(self, dataframe):\n",
    "        self.df = dataframe\n",
    "        self.p = None #P-Value\n",
    "        self.chi2 = None #Chi Test Statistic\n",
    "        self.dof = None\n",
    "        \n",
    "        self.dfObserved = None\n",
    "        self.dfExpected = None\n",
    "        \n",
    "    def _print_chisquare_result(self, colX, alpha):\n",
    "        result = \"\"\n",
    "        if self.p<alpha:\n",
    "            result=\"{0} is IMPORTANT for Prediction\".format(colX)\n",
    "        else:\n",
    "            result=\"{0} is NOT an important predictor. (Discard {0} from model)\".format(colX)\n",
    "\n",
    "        print(result)\n",
    "        \n",
    "    def TestIndependence(self,colX,colY, alpha=0.05):\n",
    "        X = self.df[colX].astype(str)\n",
    "        Y = self.df[colY].astype(str)\n",
    "        \n",
    "        self.dfObserved = pd.crosstab(Y,X) \n",
    "        chi2, p, dof, expected = stats.chi2_contingency(self.dfObserved.values)\n",
    "        self.p = p\n",
    "        self.chi2 = chi2\n",
    "        self.dof = dof \n",
    "        \n",
    "        self.dfExpected = pd.DataFrame(expected, columns=self.dfObserved.columns, index = self.dfObserved.index)\n",
    "        \n",
    "        self._print_chisquare_result(colX,alpha)"
   ]
  },
  {
   "cell_type": "code",
   "execution_count": 18,
   "metadata": {},
   "outputs": [],
   "source": [
    "dataset = pd.read_csv('C:\\\\Users\\\\ASUS\\\\Anaconda\\\\Heart Disease\\\\cleveland.csv', sep = ',', names = ['age', 'sex', 'cp', 'trestbps', 'chol', 'fbs', 'restecg', 'thalach', 'exang', 'oldpeak', 'slope', 'ca', 'thal', 'num'])"
   ]
  },
  {
   "cell_type": "code",
   "execution_count": 19,
   "metadata": {},
   "outputs": [
    {
     "name": "stdout",
     "output_type": "stream",
     "text": [
      "<class 'pandas.core.frame.DataFrame'>\n",
      "RangeIndex: 303 entries, 0 to 302\n",
      "Data columns (total 14 columns):\n",
      " #   Column    Non-Null Count  Dtype  \n",
      "---  ------    --------------  -----  \n",
      " 0   age       303 non-null    int64  \n",
      " 1   sex       303 non-null    int64  \n",
      " 2   cp        303 non-null    int64  \n",
      " 3   trestbps  303 non-null    int64  \n",
      " 4   chol      303 non-null    int64  \n",
      " 5   fbs       303 non-null    int64  \n",
      " 6   restecg   303 non-null    int64  \n",
      " 7   thalach   303 non-null    int64  \n",
      " 8   exang     303 non-null    int64  \n",
      " 9   oldpeak   303 non-null    float64\n",
      " 10  slope     303 non-null    int64  \n",
      " 11  ca        299 non-null    float64\n",
      " 12  thal      301 non-null    float64\n",
      " 13  num       303 non-null    int64  \n",
      "dtypes: float64(3), int64(11)\n",
      "memory usage: 33.3 KB\n"
     ]
    }
   ],
   "source": [
    "dataset.info()"
   ]
  },
  {
   "cell_type": "code",
   "execution_count": 20,
   "metadata": {},
   "outputs": [
    {
     "data": {
      "text/plain": [
       "age         0\n",
       "sex         0\n",
       "cp          0\n",
       "trestbps    0\n",
       "chol        0\n",
       "fbs         0\n",
       "restecg     0\n",
       "thalach     0\n",
       "exang       0\n",
       "oldpeak     0\n",
       "slope       0\n",
       "ca          4\n",
       "thal        2\n",
       "num         0\n",
       "dtype: int64"
      ]
     },
     "execution_count": 20,
     "metadata": {},
     "output_type": "execute_result"
    }
   ],
   "source": [
    "dataset.isnull().sum()"
   ]
  },
  {
   "cell_type": "code",
   "execution_count": 21,
   "metadata": {},
   "outputs": [],
   "source": [
    "#Mengganti Mean\n",
    "imputer = SimpleImputer(missing_values=np.nan, strategy='mean')\n",
    "idf=pd.DataFrame(imputer.fit_transform(dataset))\n",
    "idf.columns=dataset.columns\n",
    "idf.index=dataset.index\n",
    "x = idf.drop('num',axis=1)\n",
    "y = idf['num']\n",
    "\n",
    "#imputer = imputer.fit(x[:,0:13])   \n",
    "#x[:, 0:13] = imputer.transform(x[:, 0:13])\n",
    "\n",
    "#Menghapus NA\n",
    "dataset.dropna(subset = [\"ca\"], inplace=True)\n",
    "dataset.dropna(subset = [\"thal\"], inplace=True)\n",
    "X = dataset.drop('num',axis=1)\n",
    "Y = dataset['num']"
   ]
  },
  {
   "cell_type": "code",
   "execution_count": 22,
   "metadata": {},
   "outputs": [
    {
     "name": "stdout",
     "output_type": "stream",
     "text": [
      "      age  sex   cp  trestbps   chol  fbs  restecg  thalach  exang  oldpeak  \\\n",
      "0    63.0  1.0  1.0     145.0  233.0  1.0      2.0    150.0    0.0      2.3   \n",
      "1    67.0  1.0  4.0     160.0  286.0  0.0      2.0    108.0    1.0      1.5   \n",
      "2    67.0  1.0  4.0     120.0  229.0  0.0      2.0    129.0    1.0      2.6   \n",
      "3    37.0  1.0  3.0     130.0  250.0  0.0      0.0    187.0    0.0      3.5   \n",
      "4    41.0  0.0  2.0     130.0  204.0  0.0      2.0    172.0    0.0      1.4   \n",
      "..    ...  ...  ...       ...    ...  ...      ...      ...    ...      ...   \n",
      "298  45.0  1.0  1.0     110.0  264.0  0.0      0.0    132.0    0.0      1.2   \n",
      "299  68.0  1.0  4.0     144.0  193.0  1.0      0.0    141.0    0.0      3.4   \n",
      "300  57.0  1.0  4.0     130.0  131.0  0.0      0.0    115.0    1.0      1.2   \n",
      "301  57.0  0.0  2.0     130.0  236.0  0.0      2.0    174.0    0.0      0.0   \n",
      "302  38.0  1.0  3.0     138.0  175.0  0.0      0.0    173.0    0.0      0.0   \n",
      "\n",
      "     slope        ca  thal  num  \n",
      "0      3.0  0.000000   6.0  0.0  \n",
      "1      2.0  3.000000   3.0  2.0  \n",
      "2      2.0  2.000000   7.0  1.0  \n",
      "3      3.0  0.000000   3.0  0.0  \n",
      "4      1.0  0.000000   3.0  0.0  \n",
      "..     ...       ...   ...  ...  \n",
      "298    2.0  0.000000   7.0  1.0  \n",
      "299    2.0  2.000000   7.0  2.0  \n",
      "300    2.0  1.000000   7.0  3.0  \n",
      "301    2.0  1.000000   3.0  1.0  \n",
      "302    1.0  0.672241   3.0  0.0  \n",
      "\n",
      "[303 rows x 14 columns]\n"
     ]
    }
   ],
   "source": [
    "print(idf)"
   ]
  },
  {
   "cell_type": "code",
   "execution_count": 23,
   "metadata": {},
   "outputs": [],
   "source": [
    "#Encoding Categorical Data\n",
    "from sklearn.preprocessing import OneHotEncoder\n",
    "from sklearn.compose import ColumnTransformer\n",
    "#cp\n",
    "#ct = ColumnTransformer([(\"cp\",OneHotEncoder(),[2])], remainder = 'passthrough')\n",
    "#X = ct.fit_transform(X)\n",
    "\n",
    "#restecg\n",
    "#ct = ColumnTransformer([(\"restecg\",OneHotEncoder(),[8])], remainder = 'passthrough')\n",
    "#X = ct.fit_transform(X)\n",
    "\n",
    "#slope\n",
    "#ct = ColumnTransformer([(\"slope\",OneHotEncoder(),[13])], remainder = 'passthrough')\n",
    "#X = ct.fit_transform(X)\n",
    "\n",
    "#ca\n",
    "#ct = ColumnTransformer([(\"ca\",OneHotEncoder(),[15])], remainder = 'passthrough')\n",
    "#X = ct.fit_transform(X)\n",
    "\n",
    "#thal\n",
    "#ct = ColumnTransformer([(\"thal\",OneHotEncoder(),[19])], remainder = 'passthrough')\n",
    "#X = ct.fit_transform(X)\n",
    "\n",
    "#from sklearn.preprocessing import StandardScaler\n",
    "#scalerX = StandardScaler()\n",
    "#X = scalerX.fit_transform(X)"
   ]
  },
  {
   "cell_type": "code",
   "execution_count": 24,
   "metadata": {},
   "outputs": [
    {
     "name": "stdout",
     "output_type": "stream",
     "text": [
      "     age  sex  cp  trestbps  chol  fbs  restecg  thalach  exang  oldpeak  \\\n",
      "0     63    1   1       145   233    1        2      150      0      2.3   \n",
      "1     67    1   4       160   286    0        2      108      1      1.5   \n",
      "2     67    1   4       120   229    0        2      129      1      2.6   \n",
      "3     37    1   3       130   250    0        0      187      0      3.5   \n",
      "4     41    0   2       130   204    0        2      172      0      1.4   \n",
      "..   ...  ...  ..       ...   ...  ...      ...      ...    ...      ...   \n",
      "297   57    0   4       140   241    0        0      123      1      0.2   \n",
      "298   45    1   1       110   264    0        0      132      0      1.2   \n",
      "299   68    1   4       144   193    1        0      141      0      3.4   \n",
      "300   57    1   4       130   131    0        0      115      1      1.2   \n",
      "301   57    0   2       130   236    0        2      174      0      0.0   \n",
      "\n",
      "     slope   ca  thal  \n",
      "0        3  0.0   6.0  \n",
      "1        2  3.0   3.0  \n",
      "2        2  2.0   7.0  \n",
      "3        3  0.0   3.0  \n",
      "4        1  0.0   3.0  \n",
      "..     ...  ...   ...  \n",
      "297      2  0.0   7.0  \n",
      "298      2  0.0   7.0  \n",
      "299      2  2.0   7.0  \n",
      "300      2  1.0   7.0  \n",
      "301      2  1.0   3.0  \n",
      "\n",
      "[297 rows x 13 columns]\n"
     ]
    }
   ],
   "source": [
    "print(X)"
   ]
  },
  {
   "cell_type": "code",
   "execution_count": 25,
   "metadata": {},
   "outputs": [
    {
     "name": "stdout",
     "output_type": "stream",
     "text": [
      "age is NOT an important predictor. (Discard age from model)\n",
      "sex is IMPORTANT for Prediction\n",
      "cp is IMPORTANT for Prediction\n",
      "trestbps is NOT an important predictor. (Discard trestbps from model)\n",
      "chol is NOT an important predictor. (Discard chol from model)\n",
      "fbs is NOT an important predictor. (Discard fbs from model)\n",
      "restecg is IMPORTANT for Prediction\n",
      "thalach is IMPORTANT for Prediction\n",
      "exang is IMPORTANT for Prediction\n",
      "oldpeak is IMPORTANT for Prediction\n",
      "slope is IMPORTANT for Prediction\n",
      "ca is IMPORTANT for Prediction\n",
      "thal is IMPORTANT for Prediction\n"
     ]
    }
   ],
   "source": [
    "#Initialize ChiSquare Class Mean dataset\n",
    "cTMean = ChiSquare(idf)\n",
    "\n",
    "#Feature Selection\n",
    "testColumns = [ 'age', 'sex', 'cp', 'trestbps', 'chol', 'fbs', 'restecg', 'thalach', 'exang', 'oldpeak', 'slope', 'ca', 'thal',]\n",
    "for var in testColumns:\n",
    "    cTMean.TestIndependence(colX=var,colY=\"num\" )\n",
    "\n"
   ]
  },
  {
   "cell_type": "code",
   "execution_count": 26,
   "metadata": {},
   "outputs": [
    {
     "name": "stdout",
     "output_type": "stream",
     "text": [
      "age is NOT an important predictor. (Discard age from model)\n",
      "sex is IMPORTANT for Prediction\n",
      "cp is IMPORTANT for Prediction\n",
      "trestbps is NOT an important predictor. (Discard trestbps from model)\n",
      "chol is NOT an important predictor. (Discard chol from model)\n",
      "fbs is NOT an important predictor. (Discard fbs from model)\n",
      "restecg is IMPORTANT for Prediction\n",
      "thalach is IMPORTANT for Prediction\n",
      "exang is IMPORTANT for Prediction\n",
      "oldpeak is IMPORTANT for Prediction\n",
      "slope is IMPORTANT for Prediction\n",
      "ca is IMPORTANT for Prediction\n",
      "thal is IMPORTANT for Prediction\n"
     ]
    }
   ],
   "source": [
    "#Initialize ChiSquare Class Delete dataset\n",
    "cTDelete = ChiSquare(dataset)\n",
    "\n",
    "#Feature Selection\n",
    "testColumns = [ 'age', 'sex', 'cp', 'trestbps', 'chol', 'fbs', 'restecg', 'thalach', 'exang', 'oldpeak', 'slope', 'ca', 'thal',]\n",
    "for var in testColumns:\n",
    "    cTDelete.TestIndependence(colX=var,colY=\"num\" )"
   ]
  },
  {
   "cell_type": "code",
   "execution_count": 27,
   "metadata": {},
   "outputs": [],
   "source": [
    "from sklearn.model_selection import train_test_split\n",
    "XTrain, XTest, yTrain, yTest = train_test_split(X, Y, test_size=0.3, random_state=0)"
   ]
  },
  {
   "cell_type": "code",
   "execution_count": 28,
   "metadata": {},
   "outputs": [
    {
     "name": "stdout",
     "output_type": "stream",
     "text": [
      "K Nearest Neighbors :\n",
      "Accuracy =  0.4888888888888889\n",
      "Mean Squared Error: 2.2777777777777777\n",
      "R score: -0.43456962911126684\n",
      "Mean Absolute Error: 0.9666666666666667\n"
     ]
    }
   ],
   "source": [
    "from sklearn.neighbors import KNeighborsClassifier\n",
    "classifier = KNeighborsClassifier(n_neighbors=5, p=2, metric='minkowski')\n",
    "classifier.fit(XTrain,yTrain)\n",
    "yPred = classifier.predict(XTest)\n",
    "mse = mean_squared_error(yTest,yPred)\n",
    "r = r2_score(yTest,yPred)\n",
    "mae = mean_absolute_error(yTest,yPred)\n",
    "accuracy = accuracy_score(yTest,yPred)\n",
    "print(\"K Nearest Neighbors :\")\n",
    "print(\"Accuracy = \", accuracy)\n",
    "print(\"Mean Squared Error:\",mse)\n",
    "print(\"R score:\",r)\n",
    "print(\"Mean Absolute Error:\",mae)"
   ]
  },
  {
   "cell_type": "code",
   "execution_count": null,
   "metadata": {},
   "outputs": [],
   "source": []
  },
  {
   "cell_type": "code",
   "execution_count": null,
   "metadata": {},
   "outputs": [],
   "source": []
  }
 ],
 "metadata": {
  "kernelspec": {
   "display_name": "Python 3",
   "language": "python",
   "name": "python3"
  },
  "language_info": {
   "codemirror_mode": {
    "name": "ipython",
    "version": 3
   },
   "file_extension": ".py",
   "mimetype": "text/x-python",
   "name": "python",
   "nbconvert_exporter": "python",
   "pygments_lexer": "ipython3",
   "version": "3.7.6"
  }
 },
 "nbformat": 4,
 "nbformat_minor": 4
}
