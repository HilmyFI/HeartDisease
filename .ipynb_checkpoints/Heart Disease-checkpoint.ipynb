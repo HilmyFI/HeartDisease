{
 "cells": [
  {
   "cell_type": "code",
   "execution_count": 40,
   "metadata": {},
   "outputs": [],
   "source": [
    "import numpy as np\n",
    "import pandas as pd\n",
    "import matplotlib.pyplot as plt\n",
    "from sklearn.linear_model import LogisticRegression\n",
    "from sklearn.metrics import classification_report\n",
    "from sklearn.model_selection import train_test_split\n",
    "from sklearn.metrics import roc_auc_score\n",
    "from sklearn.impute import SimpleImputer \n",
    "from sklearn.metrics import confusion_matrix, accuracy_score\n",
    "from sklearn.metrics import mean_squared_error\n",
    "from sklearn.metrics import mean_absolute_error\n",
    "from sklearn.metrics import r2_score\n",
    "from sklearn.feature_selection import chi2\n"
   ]
  },
  {
   "cell_type": "code",
   "execution_count": 41,
   "metadata": {},
   "outputs": [],
   "source": [
    "dataset = pd.read_csv('C:\\\\Users\\\\ASUS\\\\Anaconda\\\\Heart Disease\\\\cleveland.csv', sep = ',', names = ['age', 'sex', 'cp', 'trestbps', 'chol', 'fbs', 'restecg', 'thalach', 'exang', 'oldpeak', 'slope', 'ca', 'thal', 'num'])"
   ]
  },
  {
   "cell_type": "code",
   "execution_count": 42,
   "metadata": {},
   "outputs": [
    {
     "name": "stdout",
     "output_type": "stream",
     "text": [
      "<class 'pandas.core.frame.DataFrame'>\n",
      "RangeIndex: 303 entries, 0 to 302\n",
      "Data columns (total 14 columns):\n",
      " #   Column    Non-Null Count  Dtype  \n",
      "---  ------    --------------  -----  \n",
      " 0   age       303 non-null    int64  \n",
      " 1   sex       303 non-null    int64  \n",
      " 2   cp        303 non-null    int64  \n",
      " 3   trestbps  303 non-null    int64  \n",
      " 4   chol      303 non-null    int64  \n",
      " 5   fbs       303 non-null    int64  \n",
      " 6   restecg   303 non-null    int64  \n",
      " 7   thalach   303 non-null    int64  \n",
      " 8   exang     303 non-null    int64  \n",
      " 9   oldpeak   303 non-null    float64\n",
      " 10  slope     303 non-null    int64  \n",
      " 11  ca        299 non-null    float64\n",
      " 12  thal      301 non-null    float64\n",
      " 13  num       303 non-null    int64  \n",
      "dtypes: float64(3), int64(11)\n",
      "memory usage: 33.3 KB\n"
     ]
    }
   ],
   "source": [
    "x = dataset.iloc[:, :-1].values\n",
    "y = dataset.iloc[:, 13].values\n",
    "dataset.info()"
   ]
  },
  {
   "cell_type": "code",
   "execution_count": 43,
   "metadata": {},
   "outputs": [
    {
     "data": {
      "text/plain": [
       "age         0\n",
       "sex         0\n",
       "cp          0\n",
       "trestbps    0\n",
       "chol        0\n",
       "fbs         0\n",
       "restecg     0\n",
       "thalach     0\n",
       "exang       0\n",
       "oldpeak     0\n",
       "slope       0\n",
       "ca          4\n",
       "thal        2\n",
       "num         0\n",
       "dtype: int64"
      ]
     },
     "execution_count": 43,
     "metadata": {},
     "output_type": "execute_result"
    }
   ],
   "source": [
    "dataset.isnull().sum()"
   ]
  },
  {
   "cell_type": "code",
   "execution_count": 45,
   "metadata": {},
   "outputs": [],
   "source": [
    "#Mengganti Mean\n",
    "imputer = SimpleImputer(missing_values=np.nan, strategy='mean')\n",
    "imputer = imputer.fit(x[:,0:13])   \n",
    "x[:, 0:13] = imputer.transform(x[:, 0:13])\n",
    "\n",
    "#Menghapus NA\n",
    "dataset.dropna(subset = [\"ca\"], inplace=True)\n",
    "dataset.dropna(subset = [\"thal\"], inplace=True)\n",
    "X = dataset.drop('num',axis=1)\n",
    "y = dataset['num']"
   ]
  },
  {
   "cell_type": "code",
   "execution_count": 47,
   "metadata": {},
   "outputs": [
    {
     "name": "stdout",
     "output_type": "stream",
     "text": [
      "     age  sex  cp  trestbps  chol  fbs  restecg  thalach  exang  oldpeak  \\\n",
      "0     63    1   1       145   233    1        2      150      0      2.3   \n",
      "1     67    1   4       160   286    0        2      108      1      1.5   \n",
      "2     67    1   4       120   229    0        2      129      1      2.6   \n",
      "3     37    1   3       130   250    0        0      187      0      3.5   \n",
      "4     41    0   2       130   204    0        2      172      0      1.4   \n",
      "..   ...  ...  ..       ...   ...  ...      ...      ...    ...      ...   \n",
      "297   57    0   4       140   241    0        0      123      1      0.2   \n",
      "298   45    1   1       110   264    0        0      132      0      1.2   \n",
      "299   68    1   4       144   193    1        0      141      0      3.4   \n",
      "300   57    1   4       130   131    0        0      115      1      1.2   \n",
      "301   57    0   2       130   236    0        2      174      0      0.0   \n",
      "\n",
      "     slope   ca  thal  \n",
      "0        3  0.0   6.0  \n",
      "1        2  3.0   3.0  \n",
      "2        2  2.0   7.0  \n",
      "3        3  0.0   3.0  \n",
      "4        1  0.0   3.0  \n",
      "..     ...  ...   ...  \n",
      "297      2  0.0   7.0  \n",
      "298      2  0.0   7.0  \n",
      "299      2  2.0   7.0  \n",
      "300      2  1.0   7.0  \n",
      "301      2  1.0   3.0  \n",
      "\n",
      "[297 rows x 13 columns]\n"
     ]
    }
   ],
   "source": [
    "print(X)"
   ]
  },
  {
   "cell_type": "code",
   "execution_count": 48,
   "metadata": {},
   "outputs": [],
   "source": [
    "#Encoding Categorical Data\n",
    "from sklearn.preprocessing import OneHotEncoder\n",
    "from sklearn.compose import ColumnTransformer\n",
    "#cp\n",
    "#ct = ColumnTransformer([(\"cp\",OneHotEncoder(),[2])], remainder = 'passthrough')\n",
    "#X = ct.fit_transform(X)\n",
    "\n",
    "#restecg\n",
    "#ct = ColumnTransformer([(\"restecg\",OneHotEncoder(),[8])], remainder = 'passthrough')\n",
    "#X = ct.fit_transform(X)\n",
    "\n",
    "#slope\n",
    "#ct = ColumnTransformer([(\"slope\",OneHotEncoder(),[13])], remainder = 'passthrough')\n",
    "#X = ct.fit_transform(X)\n",
    "\n",
    "#ca\n",
    "#ct = ColumnTransformer([(\"ca\",OneHotEncoder(),[15])], remainder = 'passthrough')\n",
    "#X = ct.fit_transform(X)\n",
    "\n",
    "#thal\n",
    "#ct = ColumnTransformer([(\"thal\",OneHotEncoder(),[19])], remainder = 'passthrough')\n",
    "#X = ct.fit_transform(X)\n",
    "\n",
    "#from sklearn.preprocessing import StandardScaler\n",
    "#scalerX = StandardScaler()\n",
    "#X = scalerX.fit_transform(X)"
   ]
  },
  {
   "cell_type": "code",
   "execution_count": 49,
   "metadata": {},
   "outputs": [
    {
     "name": "stdout",
     "output_type": "stream",
     "text": [
      "     age  sex  cp  trestbps  chol  fbs  restecg  thalach  exang  oldpeak  \\\n",
      "0     63    1   1       145   233    1        2      150      0      2.3   \n",
      "1     67    1   4       160   286    0        2      108      1      1.5   \n",
      "2     67    1   4       120   229    0        2      129      1      2.6   \n",
      "3     37    1   3       130   250    0        0      187      0      3.5   \n",
      "4     41    0   2       130   204    0        2      172      0      1.4   \n",
      "..   ...  ...  ..       ...   ...  ...      ...      ...    ...      ...   \n",
      "297   57    0   4       140   241    0        0      123      1      0.2   \n",
      "298   45    1   1       110   264    0        0      132      0      1.2   \n",
      "299   68    1   4       144   193    1        0      141      0      3.4   \n",
      "300   57    1   4       130   131    0        0      115      1      1.2   \n",
      "301   57    0   2       130   236    0        2      174      0      0.0   \n",
      "\n",
      "     slope   ca  thal  \n",
      "0        3  0.0   6.0  \n",
      "1        2  3.0   3.0  \n",
      "2        2  2.0   7.0  \n",
      "3        3  0.0   3.0  \n",
      "4        1  0.0   3.0  \n",
      "..     ...  ...   ...  \n",
      "297      2  0.0   7.0  \n",
      "298      2  0.0   7.0  \n",
      "299      2  2.0   7.0  \n",
      "300      2  1.0   7.0  \n",
      "301      2  1.0   3.0  \n",
      "\n",
      "[297 rows x 13 columns]\n"
     ]
    }
   ],
   "source": [
    "print(X)"
   ]
  },
  {
   "cell_type": "code",
   "execution_count": 50,
   "metadata": {},
   "outputs": [],
   "source": [
    "from sklearn.model_selection import train_test_split\n",
    "XTrain, XTest, yTrain, yTest = train_test_split(X, Y, test_size=0.3, random_state=0)"
   ]
  },
  {
   "cell_type": "code",
   "execution_count": 51,
   "metadata": {},
   "outputs": [
    {
     "name": "stdout",
     "output_type": "stream",
     "text": [
      "K Nearest Neighbors :\n",
      "Accuracy =  0.4777777777777778\n",
      "Mean Squared Error: 2.533333333333333\n",
      "R score: -0.5955213435969211\n",
      "Mean Absolute Error: 1.0\n"
     ]
    }
   ],
   "source": [
    "from sklearn.neighbors import KNeighborsClassifier\n",
    "classifier = KNeighborsClassifier(n_neighbors=7, p=2, metric='minkowski')\n",
    "classifier.fit(XTrain,yTrain)\n",
    "yPred = classifier.predict(XTest)\n",
    "mse = mean_squared_error(yTest,yPred)\n",
    "r = r2_score(yTest,yPred)\n",
    "mae = mean_absolute_error(yTest,yPred)\n",
    "accuracy = accuracy_score(yTest,yPred)\n",
    "print(\"K Nearest Neighbors :\")\n",
    "print(\"Accuracy = \", accuracy)\n",
    "print(\"Mean Squared Error:\",mse)\n",
    "print(\"R score:\",r)\n",
    "print(\"Mean Absolute Error:\",mae)"
   ]
  },
  {
   "cell_type": "code",
   "execution_count": 57,
   "metadata": {},
   "outputs": [],
   "source": [
    "chi_scores1 = chi2(X,Y)"
   ]
  },
  {
   "cell_type": "code",
   "execution_count": 58,
   "metadata": {},
   "outputs": [
    {
     "data": {
      "text/plain": [
       "(array([ 27.97523271,   7.5116461 ,  16.38318047,  19.34808999,\n",
       "         38.16745159,   6.77846122,  13.02643372, 219.88355659,\n",
       "         39.11918191,  98.50552313,  10.17842079, 107.21355311,\n",
       "         70.52028294]),\n",
       " array([1.26179258e-05, 1.11196844e-01, 2.54582307e-03, 6.71343316e-04,\n",
       "        1.03487400e-07, 1.48069036e-01, 1.11473537e-02, 1.98603765e-46,\n",
       "        6.58251791e-08, 2.04624375e-20, 3.75270986e-02, 2.85837556e-22,\n",
       "        1.76256289e-14]))"
      ]
     },
     "execution_count": 58,
     "metadata": {},
     "output_type": "execute_result"
    }
   ],
   "source": [
    "chi_scores1"
   ]
  },
  {
   "cell_type": "code",
   "execution_count": 59,
   "metadata": {},
   "outputs": [],
   "source": [
    "p_values1 = pd.Series(chi_scores1[1],index = X.columns)\n",
    "p_values1.sort_values(ascending = False , inplace = True)"
   ]
  },
  {
   "cell_type": "code",
   "execution_count": 60,
   "metadata": {},
   "outputs": [
    {
     "data": {
      "text/plain": [
       "<matplotlib.axes._subplots.AxesSubplot at 0x1d71097bd08>"
      ]
     },
     "execution_count": 60,
     "metadata": {},
     "output_type": "execute_result"
    },
    {
     "data": {
      "image/png": "[encoded data removed]",
      "text/plain": [
       "<Figure size 432x288 with 1 Axes>"
      ]
     },
     "metadata": {
      "needs_background": "light"
     },
     "output_type": "display_data"
    }
   ],
   "source": [
    "p_values1.plot.bar()"
   ]
  },
  {
   "cell_type": "code",
   "execution_count": null,
   "metadata": {},
   "outputs": [],
   "source": []
  }
 ],
 "metadata": {
  "kernelspec": {
   "display_name": "Python 3",
   "language": "python",
   "name": "python3"
  },
  "language_info": {
   "codemirror_mode": {
    "name": "ipython",
    "version": 3
   },
   "file_extension": ".py",
   "mimetype": "text/x-python",
   "name": "python",
   "nbconvert_exporter": "python",
   "pygments_lexer": "ipython3",
   "version": "3.7.6"
  }
 },
 "nbformat": 4,
 "nbformat_minor": 4
}
